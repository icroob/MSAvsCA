{
 "cells": [
  {
   "cell_type": "code",
   "execution_count": 1,
   "id": "reported-taste",
   "metadata": {},
   "outputs": [],
   "source": [
    "# import libraries \n",
    "import pandas as pd\n",
    "import random\n",
    "import numpy\n",
    "import fasttext"
   ]
  },
  {
   "cell_type": "markdown",
   "id": "diagnostic-router",
   "metadata": {},
   "source": [
    "# Importing Datasets\n",
    "Here we import two datasets - one for MSA and one for CA, the dataset is preprocessed (clean from non-arabic words). "
   ]
  },
  {
   "cell_type": "code",
   "execution_count": 2,
   "id": "julian-annotation",
   "metadata": {},
   "outputs": [],
   "source": [
    "root = ''\n",
    "\n",
    "file_pathCA = root + \"main datasets/CA.txt\"\n",
    "file_pathMSA = root + \"main datasets/MSA.txt\""
   ]
  },
  {
   "cell_type": "code",
   "execution_count": 3,
   "id": "further-whale",
   "metadata": {},
   "outputs": [
    {
     "data": {
      "text/html": [
       "<div>\n",
       "<style scoped>\n",
       "    .dataframe tbody tr th:only-of-type {\n",
       "        vertical-align: middle;\n",
       "    }\n",
       "\n",
       "    .dataframe tbody tr th {\n",
       "        vertical-align: top;\n",
       "    }\n",
       "\n",
       "    .dataframe thead th {\n",
       "        text-align: right;\n",
       "    }\n",
       "</style>\n",
       "<table border=\"1\" class=\"dataframe\">\n",
       "  <thead>\n",
       "    <tr style=\"text-align: right;\">\n",
       "      <th></th>\n",
       "      <th>0</th>\n",
       "    </tr>\n",
       "  </thead>\n",
       "  <tbody>\n",
       "    <tr>\n",
       "      <th>0</th>\n",
       "      <td>هذا الملف آليا بواسطة المكتبة الشاملة الكتاب أ...</td>\n",
       "    </tr>\n",
       "    <tr>\n",
       "      <th>1</th>\n",
       "      <td>الكتاب مشكول ومرقم آليا غير موافق للمطبوع مقدم...</td>\n",
       "    </tr>\n",
       "    <tr>\n",
       "      <th>2</th>\n",
       "      <td>ونثر فيه ألباب الألباب</td>\n",
       "    </tr>\n",
       "    <tr>\n",
       "      <th>3</th>\n",
       "      <td>وفتح فيه لكل من جاء بعده إلى معارفه الباب</td>\n",
       "    </tr>\n",
       "    <tr>\n",
       "      <th>4</th>\n",
       "      <td>فكل أحد غرف منه على قدر إنائه</td>\n",
       "    </tr>\n",
       "    <tr>\n",
       "      <th>5</th>\n",
       "      <td>وما نقصت قطرة من مائه</td>\n",
       "    </tr>\n",
       "    <tr>\n",
       "      <th>6</th>\n",
       "      <td>وأعظم من انتقى منه الأحكام بصيرة القاضي أبو إسحاق</td>\n",
       "    </tr>\n",
       "    <tr>\n",
       "      <th>7</th>\n",
       "      <td>فاستخرج دررها</td>\n",
       "    </tr>\n",
       "    <tr>\n",
       "      <th>8</th>\n",
       "      <td>واستحلب دررها</td>\n",
       "    </tr>\n",
       "    <tr>\n",
       "      <th>9</th>\n",
       "      <td>وإن كان قد غير أسانيدها لقد ربط معاقدها</td>\n",
       "    </tr>\n",
       "  </tbody>\n",
       "</table>\n",
       "</div>"
      ],
      "text/plain": [
       "                                                   0\n",
       "0  هذا الملف آليا بواسطة المكتبة الشاملة الكتاب أ...\n",
       "1  الكتاب مشكول ومرقم آليا غير موافق للمطبوع مقدم...\n",
       "2                             ونثر فيه ألباب الألباب\n",
       "3          وفتح فيه لكل من جاء بعده إلى معارفه الباب\n",
       "4                      فكل أحد غرف منه على قدر إنائه\n",
       "5                              وما نقصت قطرة من مائه\n",
       "6  وأعظم من انتقى منه الأحكام بصيرة القاضي أبو إسحاق\n",
       "7                                      فاستخرج دررها\n",
       "8                                      واستحلب دررها\n",
       "9            وإن كان قد غير أسانيدها لقد ربط معاقدها"
      ]
     },
     "execution_count": 3,
     "metadata": {},
     "output_type": "execute_result"
    }
   ],
   "source": [
    "# display CA\n",
    "pd.read_csv(file_pathCA, header=None, nrows=10, encoding ='UTF-8')"
   ]
  },
  {
   "cell_type": "code",
   "execution_count": 4,
   "id": "medical-electricity",
   "metadata": {},
   "outputs": [
    {
     "data": {
      "text/html": [
       "<div>\n",
       "<style scoped>\n",
       "    .dataframe tbody tr th:only-of-type {\n",
       "        vertical-align: middle;\n",
       "    }\n",
       "\n",
       "    .dataframe tbody tr th {\n",
       "        vertical-align: top;\n",
       "    }\n",
       "\n",
       "    .dataframe thead th {\n",
       "        text-align: right;\n",
       "    }\n",
       "</style>\n",
       "<table border=\"1\" class=\"dataframe\">\n",
       "  <thead>\n",
       "    <tr style=\"text-align: right;\">\n",
       "      <th></th>\n",
       "      <th>0</th>\n",
       "    </tr>\n",
       "  </thead>\n",
       "  <tbody>\n",
       "    <tr>\n",
       "      <th>0</th>\n",
       "      <td>رئيس وزراء المجر</td>\n",
       "    </tr>\n",
       "    <tr>\n",
       "      <th>1</th>\n",
       "      <td>عنصرية جماهير أوجبيست جلبت العار للبلاد</td>\n",
       "    </tr>\n",
       "    <tr>\n",
       "      <th>2</th>\n",
       "      <td>قال متحدث باسم الحكومة المجرية</td>\n",
       "    </tr>\n",
       "    <tr>\n",
       "      <th>3</th>\n",
       "      <td>إن رئيس الوزراء فيرنك جيوركساني رحب بقرار اتحا...</td>\n",
       "    </tr>\n",
       "    <tr>\n",
       "      <th>4</th>\n",
       "      <td>وعاقب الاتحاد المجري فريق أوجبيست بعد أن سخرت ...</td>\n",
       "    </tr>\n",
       "    <tr>\n",
       "      <th>5</th>\n",
       "      <td>يذكر أن الاتحاد فرض أيضا غرامة مالية قدرها ألف...</td>\n",
       "    </tr>\n",
       "    <tr>\n",
       "      <th>6</th>\n",
       "      <td>وأوضح جيوركساني في خطاب إلي إيستفان كيستليكي ر...</td>\n",
       "    </tr>\n",
       "    <tr>\n",
       "      <th>7</th>\n",
       "      <td>أن هذا السلوك العنصري من الجماهير</td>\n",
       "    </tr>\n",
       "    <tr>\n",
       "      <th>8</th>\n",
       "      <td>جلب العار لكرة القدم وللمجر</td>\n",
       "    </tr>\n",
       "    <tr>\n",
       "      <th>9</th>\n",
       "      <td>يذكر أن المجر بها مجموعة من مشجعي كرة القدم ال...</td>\n",
       "    </tr>\n",
       "  </tbody>\n",
       "</table>\n",
       "</div>"
      ],
      "text/plain": [
       "                                                   0\n",
       "0                                   رئيس وزراء المجر\n",
       "1            عنصرية جماهير أوجبيست جلبت العار للبلاد\n",
       "2                     قال متحدث باسم الحكومة المجرية\n",
       "3  إن رئيس الوزراء فيرنك جيوركساني رحب بقرار اتحا...\n",
       "4  وعاقب الاتحاد المجري فريق أوجبيست بعد أن سخرت ...\n",
       "5  يذكر أن الاتحاد فرض أيضا غرامة مالية قدرها ألف...\n",
       "6  وأوضح جيوركساني في خطاب إلي إيستفان كيستليكي ر...\n",
       "7                  أن هذا السلوك العنصري من الجماهير\n",
       "8                        جلب العار لكرة القدم وللمجر\n",
       "9  يذكر أن المجر بها مجموعة من مشجعي كرة القدم ال..."
      ]
     },
     "execution_count": 4,
     "metadata": {},
     "output_type": "execute_result"
    }
   ],
   "source": [
    "# display MSA\n",
    "pd.read_csv(file_pathMSA, header=None, nrows=10, encoding ='UTF-8')"
   ]
  },
  {
   "cell_type": "markdown",
   "id": "outside-trail",
   "metadata": {},
   "source": [
    "# FastText Preprocessing Format\n",
    "We declare a method that allows us to convert a textual data, to FastText required format. We set a variable \"min\", \"min\" is the minimum accepted length of a sentence, because we noted that there are some lines contain only one word. \n",
    "FastTextmaker is a method input a path of a txt file, and output a FastText array format called DATA. MSAorCA variable spesify wethere the type of the input file is MSA or CA. the number of simple will return by the variable counter."
   ]
  },
  {
   "cell_type": "code",
   "execution_count": 5,
   "id": "acute-uzbekistan",
   "metadata": {},
   "outputs": [],
   "source": [
    "def FastTextmaker(file_path, fasttextoutput, MSAorCA=0, MSA=0, CA=0, __min=5):\n",
    "    file1 = open(file_path, 'r', encoding=\"UTF-8\", newline=\"\")\n",
    "    lines = file1.readlines()\n",
    "    print(\"lines ::: \", len(lines))\n",
    "    file1.close()\n",
    "    DATA = []\n",
    "    counter = 0\n",
    "    for line in lines:\n",
    "        splt = line.split(' ')\n",
    "        fasttextline = \"\"\n",
    "        if(len(splt) > __min):\n",
    "            if(MSAorCA == 0):\n",
    "                fasttextline = \"__label__MSA \" + line.strip();\n",
    "                counter += 1\n",
    "            elif(MSAorCA == 1):\n",
    "                fasttextline = \"__label__CA \" + line.strip();\n",
    "                counter += 1\n",
    "\n",
    "            DATA.append(fasttextline)\n",
    "\n",
    "    return DATA, counter"
   ]
  },
  {
   "cell_type": "code",
   "execution_count": 6,
   "id": "positive-brazil",
   "metadata": {},
   "outputs": [
    {
     "name": "stdout",
     "output_type": "stream",
     "text": [
      "lines :::  4413048\n",
      "lines :::  12628599\n",
      "CA_counter :  2973342 ; MSA_counter :  3033641\n"
     ]
    }
   ],
   "source": [
    "fasttextoutputCA = root + \"fasttextCA.txt\"\n",
    "fasttextoutputMSA = root + \"fasttextMSA.txt\"\n",
    "\n",
    "CA_DATA, CA_counter = FastTextmaker(\n",
    "    file_path=file_pathCA,\n",
    "    fasttextoutput=fasttextoutputCA,\n",
    "    MSAorCA=1,\n",
    "    __min=5\n",
    ")\n",
    "\n",
    "MSA_DATA, MSA_counter = FastTextmaker(\n",
    "    file_path=file_pathMSA,\n",
    "    fasttextoutput=fasttextoutputMSA,\n",
    "    MSAorCA=0,\n",
    "    __min=10\n",
    ")\n",
    "\n",
    "print(\"CA_counter : \", CA_counter, \"; MSA_counter : \", MSA_counter)"
   ]
  },
  {
   "cell_type": "code",
   "execution_count": 8,
   "id": "coated-speaking",
   "metadata": {},
   "outputs": [
    {
     "data": {
      "text/html": [
       "<div>\n",
       "<style scoped>\n",
       "    .dataframe tbody tr th:only-of-type {\n",
       "        vertical-align: middle;\n",
       "    }\n",
       "\n",
       "    .dataframe tbody tr th {\n",
       "        vertical-align: top;\n",
       "    }\n",
       "\n",
       "    .dataframe thead th {\n",
       "        text-align: right;\n",
       "    }\n",
       "</style>\n",
       "<table border=\"1\" class=\"dataframe\">\n",
       "  <thead>\n",
       "    <tr style=\"text-align: right;\">\n",
       "      <th></th>\n",
       "      <th>0</th>\n",
       "    </tr>\n",
       "  </thead>\n",
       "  <tbody>\n",
       "    <tr>\n",
       "      <th>0</th>\n",
       "      <td>__label__CA هذا الملف آليا بواسطة المكتبة الشا...</td>\n",
       "    </tr>\n",
       "    <tr>\n",
       "      <th>1</th>\n",
       "      <td>__label__CA الكتاب مشكول ومرقم آليا غير موافق ...</td>\n",
       "    </tr>\n",
       "    <tr>\n",
       "      <th>2</th>\n",
       "      <td>__label__CA وفتح فيه لكل من جاء بعده إلى معارف...</td>\n",
       "    </tr>\n",
       "    <tr>\n",
       "      <th>3</th>\n",
       "      <td>__label__CA فكل أحد غرف منه على قدر إنائه</td>\n",
       "    </tr>\n",
       "    <tr>\n",
       "      <th>4</th>\n",
       "      <td>__label__CA وأعظم من انتقى منه الأحكام بصيرة ا...</td>\n",
       "    </tr>\n",
       "    <tr>\n",
       "      <th>5</th>\n",
       "      <td>__label__CA وإن كان قد غير أسانيدها لقد ربط مع...</td>\n",
       "    </tr>\n",
       "    <tr>\n",
       "      <th>6</th>\n",
       "      <td>__label__CA ولم يأت بعدهما من يلحق بهما</td>\n",
       "    </tr>\n",
       "    <tr>\n",
       "      <th>7</th>\n",
       "      <td>__label__CA ولما من الله سبحانه بالاستبصار في ...</td>\n",
       "    </tr>\n",
       "    <tr>\n",
       "      <th>8</th>\n",
       "      <td>__label__CA ثم عرضناها على ما جلبه العلماء</td>\n",
       "    </tr>\n",
       "    <tr>\n",
       "      <th>9</th>\n",
       "      <td>__label__CA وشحذناه حتى خلص نضاره وورق عراره</td>\n",
       "    </tr>\n",
       "  </tbody>\n",
       "</table>\n",
       "</div>"
      ],
      "text/plain": [
       "                                                   0\n",
       "0  __label__CA هذا الملف آليا بواسطة المكتبة الشا...\n",
       "1  __label__CA الكتاب مشكول ومرقم آليا غير موافق ...\n",
       "2  __label__CA وفتح فيه لكل من جاء بعده إلى معارف...\n",
       "3          __label__CA فكل أحد غرف منه على قدر إنائه\n",
       "4  __label__CA وأعظم من انتقى منه الأحكام بصيرة ا...\n",
       "5  __label__CA وإن كان قد غير أسانيدها لقد ربط مع...\n",
       "6            __label__CA ولم يأت بعدهما من يلحق بهما\n",
       "7  __label__CA ولما من الله سبحانه بالاستبصار في ...\n",
       "8         __label__CA ثم عرضناها على ما جلبه العلماء\n",
       "9       __label__CA وشحذناه حتى خلص نضاره وورق عراره"
      ]
     },
     "execution_count": 8,
     "metadata": {},
     "output_type": "execute_result"
    }
   ],
   "source": [
    "pd.DataFrame(CA_DATA[:10])"
   ]
  },
  {
   "cell_type": "code",
   "execution_count": 9,
   "id": "consolidated-rugby",
   "metadata": {},
   "outputs": [
    {
     "data": {
      "text/html": [
       "<div>\n",
       "<style scoped>\n",
       "    .dataframe tbody tr th:only-of-type {\n",
       "        vertical-align: middle;\n",
       "    }\n",
       "\n",
       "    .dataframe tbody tr th {\n",
       "        vertical-align: top;\n",
       "    }\n",
       "\n",
       "    .dataframe thead th {\n",
       "        text-align: right;\n",
       "    }\n",
       "</style>\n",
       "<table border=\"1\" class=\"dataframe\">\n",
       "  <thead>\n",
       "    <tr style=\"text-align: right;\">\n",
       "      <th></th>\n",
       "      <th>0</th>\n",
       "    </tr>\n",
       "  </thead>\n",
       "  <tbody>\n",
       "    <tr>\n",
       "      <th>0</th>\n",
       "      <td>__label__MSA إن رئيس الوزراء فيرنك جيوركساني ر...</td>\n",
       "    </tr>\n",
       "    <tr>\n",
       "      <th>1</th>\n",
       "      <td>__label__MSA وعاقب الاتحاد المجري فريق أوجبيست...</td>\n",
       "    </tr>\n",
       "    <tr>\n",
       "      <th>2</th>\n",
       "      <td>__label__MSA يذكر أن الاتحاد فرض أيضا غرامة ما...</td>\n",
       "    </tr>\n",
       "    <tr>\n",
       "      <th>3</th>\n",
       "      <td>__label__MSA وأوضح جيوركساني في خطاب إلي إيستف...</td>\n",
       "    </tr>\n",
       "    <tr>\n",
       "      <th>4</th>\n",
       "      <td>__label__MSA وشارك الكثير منهم في أعمال شغب مع...</td>\n",
       "    </tr>\n",
       "    <tr>\n",
       "      <th>5</th>\n",
       "      <td>__label__MSA إذا اعتبرنا جوجول وتشيكوف هما رئد...</td>\n",
       "    </tr>\n",
       "    <tr>\n",
       "      <th>6</th>\n",
       "      <td>__label__MSA كان ذلك بين أواخر الخمسينيات وطوا...</td>\n",
       "    </tr>\n",
       "    <tr>\n",
       "      <th>7</th>\n",
       "      <td>__label__MSA إلا أن قصصه كانت لصيقة بالحياة وم...</td>\n",
       "    </tr>\n",
       "    <tr>\n",
       "      <th>8</th>\n",
       "      <td>__label__MSA وكانت أعماله القصصية قد ترجمت للك...</td>\n",
       "    </tr>\n",
       "    <tr>\n",
       "      <th>9</th>\n",
       "      <td>__label__MSA وكان يوسف إدريس قد كتب للأهرام سل...</td>\n",
       "    </tr>\n",
       "  </tbody>\n",
       "</table>\n",
       "</div>"
      ],
      "text/plain": [
       "                                                   0\n",
       "0  __label__MSA إن رئيس الوزراء فيرنك جيوركساني ر...\n",
       "1  __label__MSA وعاقب الاتحاد المجري فريق أوجبيست...\n",
       "2  __label__MSA يذكر أن الاتحاد فرض أيضا غرامة ما...\n",
       "3  __label__MSA وأوضح جيوركساني في خطاب إلي إيستف...\n",
       "4  __label__MSA وشارك الكثير منهم في أعمال شغب مع...\n",
       "5  __label__MSA إذا اعتبرنا جوجول وتشيكوف هما رئد...\n",
       "6  __label__MSA كان ذلك بين أواخر الخمسينيات وطوا...\n",
       "7  __label__MSA إلا أن قصصه كانت لصيقة بالحياة وم...\n",
       "8  __label__MSA وكانت أعماله القصصية قد ترجمت للك...\n",
       "9  __label__MSA وكان يوسف إدريس قد كتب للأهرام سل..."
      ]
     },
     "execution_count": 9,
     "metadata": {},
     "output_type": "execute_result"
    }
   ],
   "source": [
    "pd.DataFrame(MSA_DATA[:10])"
   ]
  },
  {
   "cell_type": "code",
   "execution_count": 10,
   "id": "protecting-level",
   "metadata": {},
   "outputs": [
    {
     "data": {
      "text/html": [
       "<div>\n",
       "<style scoped>\n",
       "    .dataframe tbody tr th:only-of-type {\n",
       "        vertical-align: middle;\n",
       "    }\n",
       "\n",
       "    .dataframe tbody tr th {\n",
       "        vertical-align: top;\n",
       "    }\n",
       "\n",
       "    .dataframe thead th {\n",
       "        text-align: right;\n",
       "    }\n",
       "</style>\n",
       "<table border=\"1\" class=\"dataframe\">\n",
       "  <thead>\n",
       "    <tr style=\"text-align: right;\">\n",
       "      <th></th>\n",
       "      <th>0</th>\n",
       "    </tr>\n",
       "  </thead>\n",
       "  <tbody>\n",
       "    <tr>\n",
       "      <th>0</th>\n",
       "      <td>__label__CA هذا الملف آليا بواسطة المكتبة الشا...</td>\n",
       "    </tr>\n",
       "    <tr>\n",
       "      <th>1</th>\n",
       "      <td>__label__CA الكتاب مشكول ومرقم آليا غير موافق ...</td>\n",
       "    </tr>\n",
       "    <tr>\n",
       "      <th>2</th>\n",
       "      <td>__label__CA وفتح فيه لكل من جاء بعده إلى معارف...</td>\n",
       "    </tr>\n",
       "    <tr>\n",
       "      <th>3</th>\n",
       "      <td>__label__CA فكل أحد غرف منه على قدر إنائه</td>\n",
       "    </tr>\n",
       "    <tr>\n",
       "      <th>4</th>\n",
       "      <td>__label__CA وأعظم من انتقى منه الأحكام بصيرة ا...</td>\n",
       "    </tr>\n",
       "    <tr>\n",
       "      <th>...</th>\n",
       "      <td>...</td>\n",
       "    </tr>\n",
       "    <tr>\n",
       "      <th>6006978</th>\n",
       "      <td>__label__MSA ولم يكن الموقف جديدا  بالنسبة لجم...</td>\n",
       "    </tr>\n",
       "    <tr>\n",
       "      <th>6006979</th>\n",
       "      <td>__label__MSA ففي ذلك العام فجر خافيير كليمنتي ...</td>\n",
       "    </tr>\n",
       "    <tr>\n",
       "      <th>6006980</th>\n",
       "      <td>__label__MSA وفي مباراة الذهاب بنهائي كأس الات...</td>\n",
       "    </tr>\n",
       "    <tr>\n",
       "      <th>6006981</th>\n",
       "      <td>__label__MSA وسافر ألفا  من مشجعي الفريق الإسب...</td>\n",
       "    </tr>\n",
       "    <tr>\n",
       "      <th>6006982</th>\n",
       "      <td>__label__MSA إلا أن فريق كليمنتي خسر صفر في لي...</td>\n",
       "    </tr>\n",
       "  </tbody>\n",
       "</table>\n",
       "<p>6006983 rows × 1 columns</p>\n",
       "</div>"
      ],
      "text/plain": [
       "                                                         0\n",
       "0        __label__CA هذا الملف آليا بواسطة المكتبة الشا...\n",
       "1        __label__CA الكتاب مشكول ومرقم آليا غير موافق ...\n",
       "2        __label__CA وفتح فيه لكل من جاء بعده إلى معارف...\n",
       "3                __label__CA فكل أحد غرف منه على قدر إنائه\n",
       "4        __label__CA وأعظم من انتقى منه الأحكام بصيرة ا...\n",
       "...                                                    ...\n",
       "6006978  __label__MSA ولم يكن الموقف جديدا  بالنسبة لجم...\n",
       "6006979  __label__MSA ففي ذلك العام فجر خافيير كليمنتي ...\n",
       "6006980  __label__MSA وفي مباراة الذهاب بنهائي كأس الات...\n",
       "6006981  __label__MSA وسافر ألفا  من مشجعي الفريق الإسب...\n",
       "6006982  __label__MSA إلا أن فريق كليمنتي خسر صفر في لي...\n",
       "\n",
       "[6006983 rows x 1 columns]"
      ]
     },
     "execution_count": 10,
     "metadata": {},
     "output_type": "execute_result"
    }
   ],
   "source": [
    "ALLDATA = CA_DATA + MSA_DATA\n",
    "pd.DataFrame(ALLDATA)"
   ]
  },
  {
   "cell_type": "code",
   "execution_count": 11,
   "id": "flying-edgar",
   "metadata": {},
   "outputs": [
    {
     "name": "stdout",
     "output_type": "stream",
     "text": [
      "CA simples :  2973342\n",
      "MSA simples :  3033641\n",
      "Total simples :  6006983\n"
     ]
    }
   ],
   "source": [
    "#data statistics :\n",
    "print('CA simples : ' , len(CA_DATA))\n",
    "print('MSA simples : ' , len(MSA_DATA))\n",
    "print('Total simples : ' , len(ALLDATA))"
   ]
  },
  {
   "cell_type": "markdown",
   "id": "major-cancellation",
   "metadata": {},
   "source": [
    "# Data Shuffeling\n",
    "we need to shuffle ALLDATA array, then save to a final FastText data file."
   ]
  },
  {
   "cell_type": "code",
   "execution_count": 18,
   "id": "ignored-ridge",
   "metadata": {},
   "outputs": [],
   "source": [
    "fasttextoutputMSA_CA = root + \"fasttextMSA_CA.txt\"\n",
    "\n",
    "random.shuffle(ALLDATA)\n",
    "\n",
    "dd_f = open(fasttextoutputMSA_CA, \"w\", encoding=\"UTF-8\", newline=\"\")\n",
    "\n",
    "for d in ALLDATA:\n",
    "    dd_f.write(d + \"\\n\")\n",
    "\n",
    "dd_f.close()"
   ]
  },
  {
   "cell_type": "markdown",
   "id": "recorded-pasta",
   "metadata": {},
   "source": [
    "# Train & Test datasets Creation\n",
    "In this section we want to split the data (fasttextoutputMSA_CA file) to 70% train and 30% test."
   ]
  },
  {
   "cell_type": "code",
   "execution_count": 19,
   "id": "million-waterproof",
   "metadata": {},
   "outputs": [
    {
     "name": "stdout",
     "output_type": "stream",
     "text": [
      "70% =  4204888\n",
      "lines :::  6006983\n"
     ]
    }
   ],
   "source": [
    "percent__70__ = int((70*6006983) / 100)\n",
    "print('70% = ', percent__70__)\n",
    "\n",
    "ftest = root + \"test.txt\"\n",
    "ftrain = root + \"train.txt\"\n",
    "\n",
    "file1 = open(fasttextoutputMSA_CA, 'r', encoding=\"UTF-8\", newline=\"\")\n",
    "lines = file1.readlines()\n",
    "print(\"lines ::: \", len(lines))\n",
    "file1.close()\n",
    "\n",
    "dd_ftest = open(ftest, \"w\", encoding=\"UTF-8\", newline=\"\")\n",
    "dd_ftrain = open(ftrain, \"w\", encoding=\"UTF-8\", newline=\"\")\n",
    "\n",
    "counter = 0\n",
    "for line in lines:\n",
    "    if(counter <= percent__70__):\n",
    "        dd_ftrain.write(line)\n",
    "    else:\n",
    "        dd_ftest.write(line)\n",
    "\n",
    "    counter += 1\n",
    "\n",
    "dd_ftest.close()\n",
    "dd_ftrain.close()"
   ]
  },
  {
   "cell_type": "markdown",
   "id": "latin-module",
   "metadata": {},
   "source": [
    "# Is data balanced ?\n",
    "we want to cehck the number of the positive and negative labels are balanced or not.\n",
    "as it is shown, for each data the labels are balanced."
   ]
  },
  {
   "cell_type": "code",
   "execution_count": 22,
   "id": "understanding-timer",
   "metadata": {},
   "outputs": [],
   "source": [
    "def is_balanced(file_path):\n",
    "    file1 = open(file_path, 'r', encoding=\"UTF-8\", newline=\"\")\n",
    "    lines = file1.readlines()\n",
    "    print(\"lines ::: \", len(lines))\n",
    "    file1.close()\n",
    "    \n",
    "    counter_msa = 0\n",
    "    counter_ca = 0\n",
    "    \n",
    "    for line in lines:\n",
    "        if(line.startswith(\"__label__MSA\")):\n",
    "            counter_msa += 1\n",
    "        elif(line.startswith(\"__label__CA\")):\n",
    "            counter_ca += 1\n",
    "    \n",
    "    total = counter_msa + counter_ca\n",
    "    p_msa = round((counter_msa*100)/total, 2)\n",
    "    p_ca = round((counter_ca*100)/total, 2)\n",
    "\n",
    "    return total, counter_msa, p_msa, counter_ca, p_ca"
   ]
  },
  {
   "cell_type": "code",
   "execution_count": 23,
   "id": "ahead-james",
   "metadata": {},
   "outputs": [
    {
     "name": "stdout",
     "output_type": "stream",
     "text": [
      "lines :::  1802094\n",
      "total :  1802094 MSA simples :  910445  with  50.52 % ; CA simples :  891649  with  49.48 %\n",
      "lines :::  4204889\n",
      "total :  4204889 MSA simples :  2123196  with  50.49 % ; CA simples :  2081693  with  49.51 %\n"
     ]
    }
   ],
   "source": [
    "ftest = root + \"test.txt\"\n",
    "ftrain = root + \"train.txt\"\n",
    "\n",
    "total, counter_msa, p_msa, counter_ca, p_ca = is_balanced(ftest)\n",
    "\n",
    "print('total : ', total, 'MSA simples : ', counter_msa, ' with ', p_msa , '%' , '; CA simples : ' , counter_ca, ' with ' , p_ca , '%')\n",
    "\n",
    "total, counter_msa, p_msa, counter_ca, p_ca = is_balanced(ftrain)\n",
    "\n",
    "print('total : ', total, 'MSA simples : ', counter_msa, ' with ', p_msa , '%' , '; CA simples : ' , counter_ca, ' with ' , p_ca , '%')"
   ]
  },
  {
   "cell_type": "markdown",
   "id": "retained-consortium",
   "metadata": {},
   "source": [
    "# Traing FastText Model\n",
    "In this section we will declare a method allows us to train a FastText classifier and output a model *.bin file."
   ]
  },
  {
   "cell_type": "code",
   "execution_count": 24,
   "id": "wicked-teddy",
   "metadata": {},
   "outputs": [],
   "source": [
    "def classifier(trainset, output_model):\n",
    "    model = fasttext.train_supervised(\n",
    "        input=trainset,\n",
    "        dim=25,\n",
    "        epoch=15,\n",
    "        minn=0,\n",
    "        maxn=0,\n",
    "        wordNgrams=1,\n",
    "        minCount=1,\n",
    "        ws=5,\n",
    "        thread=10,\n",
    "        bucket=200000,\n",
    "        loss='ova',\n",
    "        verbose=1,\n",
    "    )\n",
    "    model.save_model(output_model)\n",
    "    return model"
   ]
  },
  {
   "cell_type": "code",
   "execution_count": 25,
   "id": "bright-ottawa",
   "metadata": {},
   "outputs": [
    {
     "data": {
      "text/plain": [
       "<fasttext.FastText._FastText at 0x221f067a648>"
      ]
     },
     "execution_count": 25,
     "metadata": {},
     "output_type": "execute_result"
    }
   ],
   "source": [
    "ftrain = root + \"train.txt\"\n",
    "model_MSA_CA_train = root + \"model_MSA_CA_train.bin\"\n",
    "\n",
    "classifier(\n",
    "    trainset=ftrain,\n",
    "    output_model=model_MSA_CA_train\n",
    ")"
   ]
  },
  {
   "cell_type": "markdown",
   "id": "accurate-internet",
   "metadata": {},
   "source": [
    "# Model Evaluation\n",
    "In this section we evaluate our FastText model by Precision, Recall and Accuracy metrics. we declare a method input a test file, and predict results, then calculate each of the require metric. "
   ]
  },
  {
   "cell_type": "code",
   "execution_count": 30,
   "id": "otherwise-might",
   "metadata": {},
   "outputs": [],
   "source": [
    "def getPRA(model, test_file):\n",
    "    file1 = open(test_file, 'r', encoding=\"UTF-8\")\n",
    "    lines = file1.readlines()\n",
    "    file1.close()\n",
    "    P = 0\n",
    "    N = 0\n",
    "    TP = 0\n",
    "    TN = 0\n",
    "    FP = 0\n",
    "    FN = 0\n",
    "\n",
    "    for line in lines:\n",
    "        target_label = line.split(\" \")[0]\n",
    "        label = target_label.replace(\" \", \"\")\n",
    "        text = line.replace(target_label, \"\").strip()\n",
    "\n",
    "        p = model.predict(text)\n",
    "        predicted = list(p[0])[0]\n",
    "\n",
    "        if(label == \"__label__CA\"):\n",
    "            P += 1\n",
    "        else:\n",
    "            N += 1\n",
    "\n",
    "        if (predicted == label):\n",
    "            if (label == \"__label__CA\"):\n",
    "                TP += 1\n",
    "            else:\n",
    "                TN += 1\n",
    "\n",
    "        else:\n",
    "            if (label == \"__label__CA\"):\n",
    "                FP += 1\n",
    "            else:\n",
    "                FN += 1\n",
    "\n",
    "    Precision = (TP / (TP + FP))\n",
    "    Recall = (TP / (TP + FN))\n",
    "    Accuracy = (TP + TN) / (P + N)\n",
    "\n",
    "    return P, N, TP, FP, TN, FN, Precision, Recall, Accuracy"
   ]
  },
  {
   "cell_type": "code",
   "execution_count": 31,
   "id": "extreme-battle",
   "metadata": {},
   "outputs": [
    {
     "name": "stderr",
     "output_type": "stream",
     "text": [
      "Warning : `load_model` does not return WordVectorModel or SupervisedModel any more, but a `FastText` object which is very similar.\n"
     ]
    },
    {
     "name": "stdout",
     "output_type": "stream",
     "text": [
      "positive :  891649\n",
      "negative :  910445\n",
      "true positive :  887480\n",
      "false positive :  4169\n",
      "true negative :  903537\n",
      "false negative :  6908\n",
      "Precision :  0.9953243933431204\n",
      "Recall :  0.9922762827766025\n",
      "Accuracy :  0.9938532618165312\n"
     ]
    }
   ],
   "source": [
    "model_MSA_CA_train = root + \"model_MSA_CA_train.bin\"\n",
    "ftest = root + \"test.txt\"\n",
    "\n",
    "model = fasttext.load_model(model_MSA_CA_train)\n",
    "P, N, TP, FP, TN, FN, Precision, Recall, Accuracy = getPRA(model, ftest)\n",
    "    \n",
    "print('positive : ', P)\n",
    "print('negative : ', N)\n",
    "print('true positive : ', TP)\n",
    "print('false positive : ', FP)\n",
    "print('true negative : ', TN)\n",
    "print('false negative : ', FN)\n",
    "print('Precision : ', Precision)\n",
    "print('Recall : ', Recall)\n",
    "print('Accuracy : ', Accuracy)"
   ]
  },
  {
   "cell_type": "markdown",
   "id": "constitutional-sellers",
   "metadata": {},
   "source": [
    "# Final Model\n",
    "In this section we want to create a model with combaining all the data (train + test)"
   ]
  },
  {
   "cell_type": "code",
   "execution_count": null,
   "id": "finite-buffer",
   "metadata": {},
   "outputs": [],
   "source": [
    "def classifier(trainset, output_model):\n",
    "    model = fasttext.train_supervised(\n",
    "        input=trainset,\n",
    "        dim=25,\n",
    "        epoch=15,\n",
    "        minn=0,\n",
    "        maxn=0,\n",
    "        wordNgrams=1,\n",
    "        minCount=1,\n",
    "        ws=5,\n",
    "        thread=10,\n",
    "        bucket=200000,\n",
    "        loss='ova',\n",
    "        verbose=1,\n",
    "    )\n",
    "    model.save_model(output_model)\n",
    "    return model"
   ]
  },
  {
   "cell_type": "code",
   "execution_count": 32,
   "id": "ancient-option",
   "metadata": {},
   "outputs": [
    {
     "data": {
      "text/plain": [
       "<fasttext.FastText._FastText at 0x222182a1888>"
      ]
     },
     "execution_count": 32,
     "metadata": {},
     "output_type": "execute_result"
    }
   ],
   "source": [
    "fasttextoutputMSA_CA = root + \"fasttextMSA_CA.txt\"\n",
    "model_MSA_CA= root + \"model_MSA_CA.bin\"\n",
    "\n",
    "classifier(\n",
    "    trainset=fasttextoutputMSA_CA,\n",
    "    output_model=model_MSA_CA\n",
    ")"
   ]
  },
  {
   "cell_type": "markdown",
   "id": "level-active",
   "metadata": {},
   "source": [
    "# Get statistics for our MSA and CA corpora\n",
    "In this section, finally we are able to calculate each corpus's MSA and CA persentege.\n",
    "We create a method allows us to loop a text line by line, from a input file, and output some important statics related with MSA and CA persentege."
   ]
  },
  {
   "cell_type": "code",
   "execution_count": 41,
   "id": "spare-vulnerability",
   "metadata": {},
   "outputs": [],
   "source": [
    "def getMSA_CA_pers(file_path, model):\n",
    "    file1 = open(file_path, 'r', encoding=\"UTF-8\", newline=\"\")\n",
    "    lines = file1.readlines()\n",
    "    print(\"lines ::: \", len(lines))\n",
    "    file1.close()\n",
    "    counter_CA = 0\n",
    "    counter_MSA = 0\n",
    "\n",
    "    for line in lines:\n",
    "        label = model.predict(line.replace(\"\\n\" , \"\"))[0][0]\n",
    "\n",
    "        if(label == '__label__CA'):\n",
    "            counter_CA += 1\n",
    "        elif(label == '__label__MSA'):\n",
    "            counter_MSA += 1\n",
    "\n",
    "    return counter_MSA, counter_CA\n",
    "\n",
    "def statPercent(file_path):\n",
    "    print('__________________', file_path, '_____________')\n",
    "    model = fasttext.load_model(model_MSA_CA)\n",
    "    counter_MSA, counter_CA = getMSA_CA_pers(\n",
    "        file_path=file_path,\n",
    "        model=model\n",
    "    )\n",
    "\n",
    "    total = counter_MSA + counter_CA\n",
    "    MSA_pers = counter_MSA*100/total\n",
    "    CA_pers = counter_CA*100/total\n",
    "\n",
    "    print('total = ', total, '  , counter_MSA = ' , counter_MSA,'  counter_CA = ', counter_CA)\n",
    "    print('MSA_pers = ', MSA_pers, '  , CA_pers = ' , CA_pers)"
   ]
  },
  {
   "cell_type": "code",
   "execution_count": 42,
   "id": "documented-hardwood",
   "metadata": {},
   "outputs": [
    {
     "name": "stdout",
     "output_type": "stream",
     "text": [
      "__________________ datasets/TASHKEELA_ONLY_ND.txt _____________\n"
     ]
    },
    {
     "name": "stderr",
     "output_type": "stream",
     "text": [
      "Warning : `load_model` does not return WordVectorModel or SupervisedModel any more, but a `FastText` object which is very similar.\n"
     ]
    },
    {
     "name": "stdout",
     "output_type": "stream",
     "text": [
      "lines :::  4519919\n",
      "total =  4519919   , counter_MSA =  39834   counter_CA =  4480085\n",
      "MSA_pers =  0.8812989790303765   , CA_pers =  99.11870102096962\n",
      "__________________ datasets/quran_ND.txt _____________\n"
     ]
    },
    {
     "name": "stderr",
     "output_type": "stream",
     "text": [
      "Warning : `load_model` does not return WordVectorModel or SupervisedModel any more, but a `FastText` object which is very similar.\n",
      "Warning : `load_model` does not return WordVectorModel or SupervisedModel any more, but a `FastText` object which is very similar.\n"
     ]
    },
    {
     "name": "stdout",
     "output_type": "stream",
     "text": [
      "lines :::  6347\n",
      "total =  6347   , counter_MSA =  534   counter_CA =  5813\n",
      "MSA_pers =  8.413423664723492   , CA_pers =  91.5865763352765\n",
      "__________________ datasets/OTHERS_ONLY_ND.txt _____________\n",
      "lines :::  1029569\n",
      "total =  1029569   , counter_MSA =  36039   counter_CA =  993530\n",
      "MSA_pers =  3.5003967679679557   , CA_pers =  96.49960323203204\n",
      "__________________ datasets/Tashkeela_PLUS_ND.txt _____________\n"
     ]
    },
    {
     "name": "stderr",
     "output_type": "stream",
     "text": [
      "Warning : `load_model` does not return WordVectorModel or SupervisedModel any more, but a `FastText` object which is very similar.\n"
     ]
    },
    {
     "name": "stdout",
     "output_type": "stream",
     "text": [
      "lines :::  7587361\n",
      "total =  7587361   , counter_MSA =  56191   counter_CA =  7531170\n",
      "MSA_pers =  0.7405868786261784   , CA_pers =  99.25941312137383\n"
     ]
    }
   ],
   "source": [
    "statPercent(\"datasets/TASHKEELA_ONLY_ND.txt\")\n",
    "statPercent(\"datasets/quran_ND.txt\")\n",
    "statPercent(\"datasets/OTHERS_ONLY_ND.txt\")\n",
    "statPercent(\"datasets/Tashkeela_PLUS_ND.txt\")"
   ]
  },
  {
   "cell_type": "code",
   "execution_count": null,
   "id": "prime-shaft",
   "metadata": {},
   "outputs": [],
   "source": []
  },
  {
   "cell_type": "code",
   "execution_count": null,
   "id": "dangerous-hunger",
   "metadata": {},
   "outputs": [],
   "source": []
  }
 ],
 "metadata": {
  "kernelspec": {
   "display_name": "Python 3",
   "language": "python",
   "name": "python3"
  },
  "language_info": {
   "codemirror_mode": {
    "name": "ipython",
    "version": 3
   },
   "file_extension": ".py",
   "mimetype": "text/x-python",
   "name": "python",
   "nbconvert_exporter": "python",
   "pygments_lexer": "ipython3",
   "version": "3.7.9"
  }
 },
 "nbformat": 4,
 "nbformat_minor": 5
}
